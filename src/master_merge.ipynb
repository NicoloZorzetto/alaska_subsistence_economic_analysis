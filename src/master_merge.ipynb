{
 "cells": [
  {
   "cell_type": "markdown",
   "id": "05a630ce-6e91-4a93-ab93-6e9b8507c782",
   "metadata": {},
   "source": [
    "# Master merge\n",
    "The code below is used to create a csv file in which I compile different datasets from different sources.\n",
    "\n",
    "All individual manipulation and source-aligned merges (merging of different files from same sources) is done exclusively with code, collected in the appropriately named jupyter-notebooks."
   ]
  },
  {
   "cell_type": "markdown",
   "id": "bf8522fc-3d65-461b-bc4b-4e7b986b1904",
   "metadata": {},
   "source": [
    "## Data Sources\n",
    "- Substinence data (ADF&G): https://adfg-ak-subsistence.shinyapps.io/CSIS-Data-Downloader/\n",
    "- Borough and census areas (DCRA): https://dcra-cdo-dcced.opendata.arcgis.com/datasets/d748e3b58c654b64825f974c25b3c697_0/explore\n",
    "- Unemployment (Laborstats): https://live.laborstats.alaska.gov/labforce/csv/AKlaborforce.csv"
   ]
  },
  {
   "cell_type": "markdown",
   "id": "ceaf7422",
   "metadata": {},
   "source": [
    "# Operations\n",
    "- Open the dataset in question (souce-specific) as Pandas DataFrame\n",
    "- Merge into a master DataFrame using namematch to align community or area and year\n",
    "- Save the end master DataFrame into a csv file for susequent analysis"
   ]
  },
  {
   "cell_type": "markdown",
   "id": "a17381a8",
   "metadata": {},
   "source": [
    "## Name matching\n",
    "Since community, borough and region names don't follow the same conventions (some have 'Borough', some have 'Area', etc.) I use this function built on top of the fuzzywuzzy library to check the similarity between strings (names) in a reproduceable and clear way.\n",
    "\n",
    "The 95-score has been chosen after a bit of trial and error. Manual check of the matchings show no forced ones and very few to none wrongful rejections."
   ]
  },
  {
   "cell_type": "code",
   "execution_count": 156,
   "id": "56b0d6fb",
   "metadata": {},
   "outputs": [],
   "source": [
    "from fuzzywuzzy import process, fuzz\n",
    "\n",
    "def clean_location_name(name):\n",
    "    '''\n",
    "    Cleans location names by removing common suffixes that skew fuzzy matching.\n",
    "    '''\n",
    "    ignore_suffixes = [\"census designated place\", \"city\", \"road\", \"street\", \"highway\", \"borough\", \"area\", \"island\"]\n",
    "    for suffix in ignore_suffixes:\n",
    "        if name.lower().endswith(suffix):\n",
    "            name = name.rsplit(suffix, 1)[0].strip()\n",
    "    return name\n",
    "\n",
    "def match_names(trusted_df, trusted_col, other_df, other_col):\n",
    "    '''\n",
    "    Matches names between two dataframe columns, automatically rejecting low-confidence matches.\n",
    "    \n",
    "    Returns:\n",
    "    - Matched DataFrame with original and final names\n",
    "    - Unmatched names for manual review\n",
    "    '''\n",
    "\n",
    "    # Clean and strip names\n",
    "    trusted_unique = set(trusted_df[trusted_col].astype(str).str.strip().str.lower().apply(clean_location_name).unique())\n",
    "    other_unique = set(other_df[other_col].astype(str).str.strip().str.lower().apply(clean_location_name).unique())\n",
    "\n",
    "    matched_other_to_trusted = {}\n",
    "    unmatched_names = []\n",
    "\n",
    "    for name in other_unique:\n",
    "        for trusted_name in trusted_unique:\n",
    "            if trusted_name in name or name in trusted_name:\n",
    "                matched_other_to_trusted[name] = trusted_name\n",
    "                break\n",
    "        else:\n",
    "            match, score = process.extractOne(name, list(trusted_unique), scorer=fuzz.token_sort_ratio)\n",
    "            \n",
    "            if score >= 95:  # Almost perfect match\n",
    "                matched_other_to_trusted[name] = match\n",
    "            else:\n",
    "                unmatched_names.append(name)  # Log unmatched names\n",
    "\n",
    "    matched_df = pd.DataFrame(list(matched_other_to_trusted.items()), columns=[\"Original\", \"Matched\"])\n",
    "    unmatched_df = pd.DataFrame(unmatched_names, columns=[\"Unmatched\"])\n",
    "\n",
    "    return matched_df, unmatched_df"
   ]
  },
  {
   "cell_type": "markdown",
   "id": "058be475",
   "metadata": {},
   "source": [
    "# Merging"
   ]
  },
  {
   "cell_type": "code",
   "execution_count": 157,
   "id": "bf2ffdd1",
   "metadata": {},
   "outputs": [],
   "source": [
    "import os\n",
    "import pandas as pd\n",
    "\n",
    "custom_data_directory = '../../data/custom_data'"
   ]
  },
  {
   "cell_type": "markdown",
   "id": "079a9a32",
   "metadata": {},
   "source": [
    "## Alaskan Department of Fish and Game\n",
    "I will use this dataset about fishing, hunting and gathering as initial base for the construction of the master dataset to use for statistical analysis."
   ]
  },
  {
   "cell_type": "code",
   "execution_count": 158,
   "id": "d316f1cb",
   "metadata": {},
   "outputs": [],
   "source": [
    "adfg_df = pd.read_csv(os.path.join(custom_data_directory, 'adfg_custom.csv'))\n",
    "master_df = adfg_df"
   ]
  },
  {
   "cell_type": "markdown",
   "id": "0993486e-9ad3-42ca-8a6d-7e38ceda09e2",
   "metadata": {},
   "source": [
    "## Substinence Use\n",
    "I add this because it serves as dummy for the recognition of communities as relying on substinence activities for their survival, or not."
   ]
  },
  {
   "cell_type": "code",
   "execution_count": 159,
   "id": "614d8648-cedb-4206-b251-0e8f9a95fe36",
   "metadata": {},
   "outputs": [
    {
     "data": {
      "text/plain": [
       "Index(['Unnamed: 0', 'commname', 'relying_on_substinence'], dtype='object')"
      ]
     },
     "execution_count": 159,
     "metadata": {},
     "output_type": "execute_result"
    }
   ],
   "source": [
    "substinence_use_df  = pd.read_csv(os.path.join(custom_data_directory, 'substinence_use_status_custom.csv'))\n",
    "substinence_use_df.columns"
   ]
  },
  {
   "cell_type": "markdown",
   "id": "e1187e23-4f59-4814-9e20-67f1bf2614de",
   "metadata": {},
   "source": [
    "### Name match"
   ]
  },
  {
   "cell_type": "code",
   "execution_count": 160,
   "id": "21e8f3f6-0301-4887-b541-48711307cbba",
   "metadata": {},
   "outputs": [],
   "source": [
    "matched_df, unmatched_df = match_names(master_df, 'commname', substinence_use_df, 'commname')"
   ]
  },
  {
   "cell_type": "markdown",
   "id": "eb89c147-b309-4ee5-9022-fe69fa832cb2",
   "metadata": {},
   "source": [
    "### Merge"
   ]
  },
  {
   "cell_type": "code",
   "execution_count": 161,
   "id": "d78780ed-505a-496b-835d-7016e589f6e2",
   "metadata": {},
   "outputs": [],
   "source": [
    "name_mapping = dict(zip(matched_df[\"Original\"], matched_df[\"Matched\"]))\n",
    "\n",
    "substinence_use_df[\"commname\"] = substinence_use_df[\"commname\"].replace(name_mapping)\n",
    "\n",
    "master_df = master_df.merge(substinence_use_df, left_on=\"commname\", right_on=\"commname\", how=\"left\")\n",
    "\n",
    "master_df.drop(columns=[\"Unnamed: 0_x\", \"Unnamed: 0_y\"], inplace=True)"
   ]
  },
  {
   "cell_type": "markdown",
   "id": "b98b415c",
   "metadata": {},
   "source": [
    "## Borough and census area\n",
    "Since some data is only available per-census area or boroughs - Alaskan equivalent of counties - I will add the census area to each community, from the arcgis database's 'Community and Regions Overview'.\n",
    "\n",
    "Source: https://dcra-cdo-dcced.opendata.arcgis.com/datasets/d748e3b58c654b64825f974c25b3c697_0/explore"
   ]
  },
  {
   "cell_type": "code",
   "execution_count": 162,
   "id": "facc1371",
   "metadata": {},
   "outputs": [
    {
     "data": {
      "text/plain": [
       "Index(['Unnamed: 0', 'CommunityName', 'IncorporationType', 'BoroughCensusArea',\n",
       "       'NativeRegionalHealthCarePro', 'SchoolDistrict', 'ClimateRegion',\n",
       "       'EnergyRegion', 'EconomicRegion', 'sqMiLand', 'sqMiWater'],\n",
       "      dtype='object')"
      ]
     },
     "execution_count": 162,
     "metadata": {},
     "output_type": "execute_result"
    }
   ],
   "source": [
    "comm_and_reg_df = pd.read_csv(os.path.join(custom_data_directory, 'comm_and_reg_custom.csv'))\n",
    "comm_and_reg_df.columns"
   ]
  },
  {
   "cell_type": "markdown",
   "id": "7da1124f",
   "metadata": {},
   "source": [
    "### Check if all community names are homogeneous"
   ]
  },
  {
   "cell_type": "code",
   "execution_count": 163,
   "id": "82dd7ac8",
   "metadata": {},
   "outputs": [
    {
     "data": {
      "text/plain": [
       "False"
      ]
     },
     "execution_count": 163,
     "metadata": {},
     "output_type": "execute_result"
    }
   ],
   "source": [
    "comm_and_reg_comm = set(comm_and_reg_df['CommunityName'].astype(str).str.strip().str.lower().unique().tolist())\n",
    "master_df_comm = set(master_df['commname'].astype(str).str.strip().str.lower().unique().tolist())\n",
    "\n",
    "master_df_comm.issubset(comm_and_reg_comm)"
   ]
  },
  {
   "cell_type": "markdown",
   "id": "00f4be5a",
   "metadata": {},
   "source": [
    "## Name match and merge"
   ]
  },
  {
   "cell_type": "code",
   "execution_count": 164,
   "id": "bfcdf83c",
   "metadata": {},
   "outputs": [],
   "source": [
    "matched_df, unmatched_df = match_names(master_df, 'commname', comm_and_reg_df, 'CommunityName')\n",
    "# Manually check matches\n",
    "# matched_df"
   ]
  },
  {
   "cell_type": "code",
   "execution_count": 165,
   "id": "80c79316",
   "metadata": {},
   "outputs": [
    {
     "data": {
      "text/plain": [
       "Index(['year', 'commname', 'region', 'subreg', 'resource', 'used', 'trying',\n",
       "       'hrvsting', 'giving', 'receving', 'xtotnum', 'xtotlbs', 'units',\n",
       "       'numharv', 'percap', 'totlbhrv', 'mupch', 'pcttotal', 'mupc', 'xupc',\n",
       "       'commhh', 'relying_on_substinence', 'Unnamed: 0', 'IncorporationType',\n",
       "       'BoroughCensusArea', 'NativeRegionalHealthCarePro', 'SchoolDistrict',\n",
       "       'ClimateRegion', 'EnergyRegion', 'EconomicRegion', 'sqMiLand',\n",
       "       'sqMiWater'],\n",
       "      dtype='object')"
      ]
     },
     "execution_count": 165,
     "metadata": {},
     "output_type": "execute_result"
    }
   ],
   "source": [
    "# Use the matches to create a mapping dictionary\n",
    "name_mapping = dict(zip(matched_df[\"Original\"], matched_df[\"Matched\"]))\n",
    "\n",
    "comm_and_reg_df[\"CommunityName\"] = comm_and_reg_df[\"CommunityName\"].replace(name_mapping)\n",
    "\n",
    "master_df = master_df.merge(comm_and_reg_df, left_on=\"commname\", right_on=\"CommunityName\", how=\"left\")\n",
    "\n",
    "master_df.drop(columns=[\"CommunityName\"], inplace=True)\n",
    "master_df.columns"
   ]
  },
  {
   "cell_type": "markdown",
   "id": "2f3cd8ff",
   "metadata": {},
   "source": [
    "### Rename and reorder columns"
   ]
  },
  {
   "cell_type": "code",
   "execution_count": 166,
   "id": "80a47b94",
   "metadata": {},
   "outputs": [],
   "source": [
    "merge_col_list = master_df.columns.tolist()\n",
    "# print(f\"{i} \\t {x}\") for i, x in enumerate(merge_col_list)]\n",
    "# this order has been manually chosen from the abpove printing of columns\n",
    "new_merge_col_list = merge_col_list[0:4] + merge_col_list[20:33] + merge_col_list[4:20]"
   ]
  },
  {
   "cell_type": "code",
   "execution_count": 167,
   "id": "b875f509",
   "metadata": {},
   "outputs": [],
   "source": [
    "master_df = master_df[new_merge_col_list]\n",
    "# master_df"
   ]
  },
  {
   "cell_type": "code",
   "execution_count": 168,
   "id": "8dc1ad16",
   "metadata": {},
   "outputs": [
    {
     "data": {
      "text/plain": [
       "Index(['year', 'commname', 'region', 'subreg', 'adj_households_in_community',\n",
       "       'relying_on_substinence', 'Unnamed: 0', 'IncorporationType',\n",
       "       'BoroughCensusArea', 'NativeRegionalHealthCarePro', 'SchoolDistrict',\n",
       "       'ClimateRegion', 'EnergyRegion', 'EconomicRegion', 'sqMiLand',\n",
       "       'sqMiWater', 'resource', 'using', 'trying', 'harvesting', 'giving',\n",
       "       'receving', 'units_harvested', 'pounds_harvested', 'harv_mes_units',\n",
       "       'units_harvested_by_sample', 'lbs_harvested_percapita',\n",
       "       'lbs_harvested_by_sample', 'lbs_used_percapita',\n",
       "       'perc_contribution_to_harvest', 'median_lbs_wildfood_use_percapita',\n",
       "       'top_lbs_wildfood_use_percapita'],\n",
       "      dtype='object')"
      ]
     },
     "execution_count": 168,
     "metadata": {},
     "output_type": "execute_result"
    }
   ],
   "source": [
    "master_df.rename(columns={'used': 'using', \n",
    "                          'hrvsting': 'harvesting', \n",
    "                            'xtotnum': 'units_harvested', 'xtotlbs': 'pounds_harvested', \n",
    "                            'units': 'harv_mes_units', 'numharv': 'units_harvested_by_sample', \n",
    "                            'percap': 'lbs_harvested_percapita', 'totlbhrv': 'lbs_harvested_by_sample', \n",
    "                            'mupch': 'lbs_used_percapita', 'pcttotal': 'perc_contribution_to_harvest',\n",
    "                            'mupc': 'median_lbs_wildfood_use_percapita',\n",
    "                            'xupc': 'top_lbs_wildfood_use_percapita', \n",
    "                           'commhh': 'adj_households_in_community'}, inplace=True)\n",
    "master_df.columns"
   ]
  },
  {
   "cell_type": "markdown",
   "id": "6c0592fa",
   "metadata": {},
   "source": [
    "## Merging unemployment data\n",
    "Since the Unemployment Comparison analysis showed that both the ADFG's and the Alaskan laborstats' dataset contain the same census areas, and the foremost has the most time-varied spread, I will integrate that.\n",
    "\n",
    "Source: https://live.laborstats.alaska.gov/labforce/csv/AKlaborforce.csv"
   ]
  },
  {
   "cell_type": "code",
   "execution_count": 169,
   "id": "a2b5cd96",
   "metadata": {},
   "outputs": [],
   "source": [
    "laborstats_path = '../../data/alaskan_laborstats/'\n",
    "unem_df = pd.read_csv(os.path.join(laborstats_path, 'Alaska_NOT_SEASONALLY_adjusted.csv'))"
   ]
  },
  {
   "cell_type": "markdown",
   "id": "65c0666b",
   "metadata": {},
   "source": [
    "### Data prep\n",
    "The dataset contains monthly data, while only yearly substinence harvest data is available.\n",
    "\n",
    "I will filter for readily-provided 'Annual' data (identified with period 0, or 'Annual' as Month)"
   ]
  },
  {
   "cell_type": "code",
   "execution_count": 170,
   "id": "bef3563b",
   "metadata": {},
   "outputs": [],
   "source": [
    "unem_df = unem_df[unem_df['month'] == 'Annual'].copy()"
   ]
  },
  {
   "cell_type": "markdown",
   "id": "164180ba",
   "metadata": {},
   "source": [
    "### Dropping columns we don't want and renaming the others for consistency\n",
    "No need for month, period, or preliminary columns."
   ]
  },
  {
   "cell_type": "code",
   "execution_count": 171,
   "id": "22f0dd16",
   "metadata": {},
   "outputs": [],
   "source": [
    "cols_to_keep = ['Area Name', 'Year', 'Labor Force', 'Employment', 'Unemployment', 'Unemployment Rate']\n",
    "unem_df = unem_df[cols_to_keep].copy()"
   ]
  },
  {
   "cell_type": "code",
   "execution_count": 172,
   "id": "adf4256f",
   "metadata": {},
   "outputs": [],
   "source": [
    "unem_df.rename(columns={'Area Name': 'area_name', 'Year': 'year', 'Labor Force': 'labor_force', \n",
    "                        'Employment': 'employed', 'Unemployment': 'unemployed', \n",
    "                        'Unemployment Rate': 'unemployment_rate'}, inplace=True)"
   ]
  },
  {
   "cell_type": "markdown",
   "id": "e4bdd255",
   "metadata": {},
   "source": [
    "## Name match"
   ]
  },
  {
   "cell_type": "code",
   "execution_count": 173,
   "id": "2ae10ae9",
   "metadata": {},
   "outputs": [],
   "source": [
    "matched_df, unmatched_df = match_names(master_df, 'BoroughCensusArea', unem_df, 'area_name')"
   ]
  },
  {
   "cell_type": "markdown",
   "id": "bfec6ccf",
   "metadata": {},
   "source": [
    "### Merge"
   ]
  },
  {
   "cell_type": "code",
   "execution_count": 174,
   "id": "c3694b17",
   "metadata": {},
   "outputs": [],
   "source": [
    "name_mapping = dict(zip(matched_df[\"Original\"], matched_df[\"Matched\"]))\n",
    "\n",
    "unem_df[\"area_name\"] = unem_df[\"area_name\"].replace(name_mapping)\n",
    "\n",
    "master_df = master_df.merge(\n",
    "    unem_df, \n",
    "    left_on=[\"BoroughCensusArea\", \"year\"],  # Assuming this is the key in master_merge\n",
    "    right_on=[\"area_name\", \"year\"], \n",
    "    how=\"left\"\n",
    ")\n",
    "\n",
    "\n",
    "master_df.drop(columns=[\"area_name\"], inplace=True)"
   ]
  },
  {
   "cell_type": "markdown",
   "id": "64ebd43d",
   "metadata": {},
   "source": [
    "## ACS Files <- maybe arcgis?\n",
    "Sources for the custom file:\n",
    "- Household income and benefits: https://dcra-cdo-dcced.opendata.arcgis.com/datasets/5b535254c9f649f9b7ffe52a476052c4_3/explore\n",
    "- Family Income and Benefits: https://dcra-cdo-dcced.opendata.arcgis.com/datasets/5b535254c9f649f9b7ffe52a476052c4_3/explore?location=50.133297%2C34.600000%2C3.89\n",
    "- Income and Poverty: https://dcra-cdo-dcced.opendata.arcgis.com/datasets/f4b63e8b2c3042a98130505df1422730_9/explore?location=50.133297%2C34.600000%2C3.89\n",
    "- Population Characteristics Housing: https://dcra-cdo-dcced.opendata.arcgis.com/datasets/14f0b44db2da4f55b2adf7bb5602bead_6/explore\n",
    "- Population Characteristics Race: https://dcra-cdo-dcced.opendata.arcgis.com/datasets/30ab75bf594f48349c4ff536957869f8_1/explore?location=42.493141%2C34.600000%2C3.48\n",
    "- Population Characteristics Sex: https://dcra-cdo-dcced.opendata.arcgis.com/datasets/fa3ad93528b24f7c9ba298a68c04920d_0/explore?location=45.540112%2C34.600000%2C3.63\n",
    "- Population Characteristics Age: https://dcra-cdo-dcced.opendata.arcgis.com/datasets/63cb9ba34b914f7c89a2394b47d4319e_5/explore?location=46.265046%2C34.600000%2C3.67"
   ]
  },
  {
   "cell_type": "code",
   "execution_count": 175,
   "id": "6073a57b",
   "metadata": {},
   "outputs": [],
   "source": [
    "arcgis_df = pd.read_csv(os.path.join(custom_data_directory, 'arcgis_custom.csv'))"
   ]
  },
  {
   "cell_type": "code",
   "execution_count": 176,
   "id": "980bdc56",
   "metadata": {},
   "outputs": [
    {
     "data": {
      "text/plain": [
       "['Unnamed: 0',\n",
       " 'Place',\n",
       " 'Year',\n",
       " 'median_age',\n",
       " 'n_pop_under_14',\n",
       " 'n_pop_under_18',\n",
       " 'n_pop_18-65',\n",
       " 'n_pop_65-85',\n",
       " 'n_pop_over_85',\n",
       " 'n_families',\n",
       " 'median_family_income',\n",
       " 'n_households',\n",
       " 'n_houses',\n",
       " 'n_occupied_houses',\n",
       " 'house_vacancy_rate',\n",
       " 'n_people_below_poverty',\n",
       " 'n_households_below_poverty',\n",
       " 'n_people_under_18_below_poverty',\n",
       " 'n_people_18-64_below_poverty',\n",
       " 'n_people_65_plus_below_poverty',\n",
       " 'n_population_native',\n",
       " 'n_population_non_native',\n",
       " 'n_population_white',\n",
       " 'n_population_black',\n",
       " 'n_population_asian',\n",
       " 'n_population_male',\n",
       " 'n_population_female',\n",
       " 'n_total_population(ACS)',\n",
       " 'p_pop_under_14',\n",
       " 'p_pop_under_18',\n",
       " 'p_pop_18_65',\n",
       " 'p_pop_65_85',\n",
       " 'p_pop_over_85',\n",
       " 'p_families',\n",
       " 'p_households',\n",
       " 'p_occupied_houses',\n",
       " 'p_people_below_poverty',\n",
       " 'p_households_below_poverty',\n",
       " 'p_people_under_18_below_poverty',\n",
       " 'p_people_18_64_below_poverty',\n",
       " 'p_people_65_plus_below_poverty',\n",
       " 'p_population_native',\n",
       " 'p_population_non_native',\n",
       " 'p_population_white',\n",
       " 'p_population_black',\n",
       " 'p_population_asian',\n",
       " 'ratio_male_over_female']"
      ]
     },
     "execution_count": 176,
     "metadata": {},
     "output_type": "execute_result"
    }
   ],
   "source": [
    "[x for x in arcgis_df.columns.tolist()]"
   ]
  },
  {
   "cell_type": "code",
   "execution_count": 177,
   "id": "83df7de1",
   "metadata": {},
   "outputs": [],
   "source": [
    "# master_df"
   ]
  },
  {
   "cell_type": "code",
   "execution_count": 178,
   "id": "3fb2320c",
   "metadata": {},
   "outputs": [],
   "source": [
    "# Name match\n",
    "matched_df, unmatched_df = match_names(master_df, 'BoroughCensusArea', arcgis_df, 'Place')\n",
    "# matched_df"
   ]
  },
  {
   "cell_type": "code",
   "execution_count": 179,
   "id": "9f6bd309",
   "metadata": {},
   "outputs": [],
   "source": [
    "name_mapping = dict(zip(matched_df['Original'], matched_df['Matched']))\n",
    "\n",
    "arcgis_df['Place'] = arcgis_df['Place'].replace(name_mapping)\n",
    "\n",
    "master_df = master_df.merge(arcgis_df, \n",
    "                            left_on=['BoroughCensusArea', 'year'], \n",
    "                            right_on=['Place', 'Year'], \n",
    "                            how='left')\n",
    "\n",
    "master_df.drop(columns=['Unnamed: 0_x', 'Unnamed: 0_y', 'Place', 'Year'], inplace=True)"
   ]
  },
  {
   "cell_type": "code",
   "execution_count": 180,
   "id": "2a0c3ae7",
   "metadata": {},
   "outputs": [],
   "source": [
    "# master_df.columns.tolist()"
   ]
  },
  {
   "cell_type": "markdown",
   "id": "3786ba6d",
   "metadata": {},
   "source": [
    "## Merging IRS data\n",
    "The original datasets are organized yes by borough and year, but also by tax braket.\n",
    "What I did in the merging was just to concatenate them to have all years and boroughs, and to compute tax burdens and cleaned up AGI.\n",
    "\n",
    "I will now aggregate the data to have one row per area (borough) and year, without tax braket division.\n",
    "\n",
    "source of repository: https://www.irs.gov/downloads/irs-soi?page=17"
   ]
  },
  {
   "cell_type": "code",
   "execution_count": 181,
   "id": "181e5a7b",
   "metadata": {},
   "outputs": [
    {
     "data": {
      "text/plain": [
       "['Unnamed: 0.2',\n",
       " 'year',\n",
       " 'county',\n",
       " 'Unnamed: 0.1',\n",
       " 'Unnamed: 0',\n",
       " 'County \\nFIPS \\ncode [1]',\n",
       " 'Size of adjusted gross income by county',\n",
       " 'Number of joint returns',\n",
       " \"Number with paid preparer's signature\",\n",
       " 'Number of exemptions',\n",
       " 'Number of dependents',\n",
       " 'Salaries and wages in AGI',\n",
       " 'Unnamed: 9',\n",
       " 'Taxable interest',\n",
       " 'Unnamed: 11',\n",
       " 'Ordinary dividends',\n",
       " 'Unnamed: 13',\n",
       " 'Unnamed: 15',\n",
       " 'Business or profession\\nnet income (less loss)',\n",
       " 'Unnamed: 17',\n",
       " 'Number of \\nfarm returns',\n",
       " 'Net capital gain (less loss) in AGI',\n",
       " 'Unnamed: 20',\n",
       " 'Taxable individual retirement\\narrangement distributions',\n",
       " 'Unnamed: 22',\n",
       " 'Pensions and annuities in AGI',\n",
       " 'Unnamed: 24',\n",
       " 'Unnamed: 26',\n",
       " 'Social Security benefits in AGI',\n",
       " 'Unnamed: 28',\n",
       " 'Self-employment retirement plans',\n",
       " 'Unnamed: 30',\n",
       " 'Total itemized deductions',\n",
       " 'Unnamed: 32',\n",
       " 'State and local income taxes',\n",
       " 'Unnamed: 34',\n",
       " 'State and local general sales taxes',\n",
       " 'Unnamed: 36',\n",
       " 'Real estate taxes',\n",
       " 'Unnamed: 38',\n",
       " 'Taxes paid',\n",
       " 'Unnamed: 40',\n",
       " 'Mortgage interest paid',\n",
       " 'Unnamed: 42',\n",
       " 'Contributions',\n",
       " 'Unnamed: 44',\n",
       " 'Taxable income',\n",
       " 'Unnamed: 46',\n",
       " 'Unnamed: 48',\n",
       " 'Residential energy credit',\n",
       " 'Unnamed: 50',\n",
       " 'Child tax credit',\n",
       " 'Unnamed: 52',\n",
       " 'Child and dependent care credit',\n",
       " 'Unnamed: 54',\n",
       " 'Additional child tax credit',\n",
       " 'Unnamed: 56',\n",
       " 'Unnamed: 58',\n",
       " 'Excess earned income \\ncredit (refundable) [6]',\n",
       " 'Unnamed: 60',\n",
       " 'Alternative minimum tax',\n",
       " 'Unnamed: 62',\n",
       " 'Unnamed: 64',\n",
       " 'Unnamed: 66',\n",
       " 'Unnamed: 68',\n",
       " 'Unnamed: 70',\n",
       " 'Number of single returns',\n",
       " 'Number of head of household returns',\n",
       " 'Unnamed: 19',\n",
       " 'Unnamed: 35',\n",
       " 'Unnamed: 37',\n",
       " 'Unnamed: 39',\n",
       " 'Unnamed: 41',\n",
       " 'Unnamed: 43',\n",
       " 'Unnamed: 45',\n",
       " 'Unnamed: 47',\n",
       " 'Unnamed: 49',\n",
       " 'Unnamed: 51',\n",
       " 'Unnamed: 53',\n",
       " 'Unnamed: 55',\n",
       " 'Unnamed: 57',\n",
       " 'Unnamed: 59',\n",
       " 'Unnamed: 61',\n",
       " 'Unnamed: 63',\n",
       " 'Unnamed: 65',\n",
       " 'Unnamed: 67',\n",
       " 'Unnamed: 69',\n",
       " 'Unnamed: 71',\n",
       " 'Unnamed: 73',\n",
       " 'Total income',\n",
       " 'State and local income tax refunds\\n',\n",
       " 'Unnamed: 21',\n",
       " 'Unnamed: 23',\n",
       " 'Unnamed: 25',\n",
       " 'Unnamed: 27',\n",
       " 'Unnamed: 29',\n",
       " 'Taxable Social Security benefits',\n",
       " 'Partnership/S-corp net income (less loss)',\n",
       " 'Total statuory adjustments',\n",
       " 'Educator expenses',\n",
       " 'Self-employment health insurance deduction',\n",
       " 'IRA payments',\n",
       " 'Student loan interest deduction',\n",
       " 'Tuition and fees deduction',\n",
       " 'Domestic production activities deduction',\n",
       " 'Income tax before credits',\n",
       " 'Unnamed: 75',\n",
       " 'Foreign tax credit',\n",
       " 'Unnamed: 77',\n",
       " 'Unnamed: 79',\n",
       " 'Nonrefundable education credit',\n",
       " 'Unnamed: 81',\n",
       " 'Retirement savings contribution credit',\n",
       " 'Unnamed: 83',\n",
       " 'Unnamed: 85',\n",
       " 'Residential energy tax credit',\n",
       " 'Unnamed: 87',\n",
       " 'Self-employment tax',\n",
       " 'Unnamed: 89',\n",
       " 'Total tax payments',\n",
       " 'Unnamed: 91',\n",
       " 'Unnamed: 93',\n",
       " 'Unnamed: 95',\n",
       " 'Unnamed: 97',\n",
       " 'Unnamed: 99',\n",
       " 'Unnamed: 101',\n",
       " 'Unnamed: 103',\n",
       " 'Additional Medicare tax',\n",
       " 'Unnamed: 105',\n",
       " 'Net investment income tax',\n",
       " 'Unnamed: 107',\n",
       " 'Unnamed: 109',\n",
       " 'Unnamed: 111',\n",
       " 'Unnamed: 10',\n",
       " 'Unnamed: 14',\n",
       " 'Unnamed: 16',\n",
       " 'Unnamed: 18',\n",
       " 'Unnamed: 72',\n",
       " 'Unnamed: 74',\n",
       " 'Unnamed: 76',\n",
       " 'Excess advance premium tax credit repayment',\n",
       " 'Unnamed: 78',\n",
       " 'Unnamed: 80',\n",
       " 'Unnamed: 82',\n",
       " 'Unnamed: 84',\n",
       " 'Unnamed: 86',\n",
       " 'Unnamed: 88',\n",
       " 'Unnamed: 90',\n",
       " 'Unnamed: 92',\n",
       " 'Unnamed: 94',\n",
       " 'Total premium tax credit',\n",
       " 'Unnamed: 96',\n",
       " 'Advance premium tax credit',\n",
       " 'Unnamed: 98',\n",
       " 'Health care individual responsibility payment',\n",
       " 'Unnamed: 100',\n",
       " 'Unnamed: 102',\n",
       " 'Unnamed: 104',\n",
       " 'Unnamed: 106',\n",
       " 'Unnamed: 108',\n",
       " 'Unnamed: 110',\n",
       " 'Net premium tax credit',\n",
       " 'Unnamed: 112',\n",
       " 'Unnamed: 114',\n",
       " 'Unnamed: 116',\n",
       " 'Unnamed: 118',\n",
       " 'Unnamed: 120',\n",
       " 'Unnamed: 122',\n",
       " 'Unnamed: 124',\n",
       " 'Unnamed: 12',\n",
       " 'Number of refund anticipation loan returns',\n",
       " 'Unnamed: 126',\n",
       " 'Unnamed: 128',\n",
       " 'Self-employed (Keogh) retirement plans',\n",
       " 'Self-employed health insurance deduction',\n",
       " 'Individual retirement arrangement payments',\n",
       " 'Total medical and dental \\nexpenses deduction',\n",
       " 'Personal property taxes',\n",
       " 'Total taxes paid',\n",
       " 'Home mortgage interest paid ',\n",
       " 'Home mortgage interest paid \\nfrom personal seller',\n",
       " 'Deductible points',\n",
       " 'Qualified mortgage insurance premiums',\n",
       " 'Investment interest paid',\n",
       " 'Total charitable contributions',\n",
       " 'Net limited miscellaneous deduction',\n",
       " 'Other non-limited \\nmiscellaneous deduction',\n",
       " 'Excess advance \\npremium tax credit repayment',\n",
       " 'Retirement savings contributions credit',\n",
       " 'Health care individual \\nresponsibility payment',\n",
       " 'Unnamed: 130',\n",
       " 'Unnamed: 132',\n",
       " 'Unnamed: 134',\n",
       " 'Unnamed: 136',\n",
       " 'Total additional Medicare tax',\n",
       " 'Unnamed: 138',\n",
       " 'Unnamed: 140',\n",
       " 'Unnamed: 142',\n",
       " 'Unnamed: 144',\n",
       " 'Number of electronically filed returns',\n",
       " 'Number of computer prepared paper returns',\n",
       " 'Number of returns with direct deposit',\n",
       " 'Number of dependent exemptions',\n",
       " 'Home mortgage interest paid \\nto personal seller',\n",
       " 'Gambling loss deduction \\nand other non-limited \\nmiscellaneous deduction',\n",
       " 'Total overpayments',\n",
       " 'Unnamed: 146',\n",
       " 'Unnamed: 148',\n",
       " \"Credited to next year's estimated tax\",\n",
       " 'Unnamed: 150',\n",
       " 'Taxable IRA, pensions and annuities',\n",
       " 'Total standard deduction',\n",
       " 'Basic standard deduction',\n",
       " 'Additional standard deduction',\n",
       " 'Limited state and local taxes paid',\n",
       " 'Other non-limited miscellaneous deduction',\n",
       " 'Qualified business income deduction\\n',\n",
       " 'Child and other dependent credit',\n",
       " 'Income tax after credits',\n",
       " 'Unnamed: 31',\n",
       " 'Unnamed: 33',\n",
       " 'Taxable individual retirement arrangements distributions',\n",
       " 'Taxable pensions and annuities',\n",
       " 'Unnamed: 113',\n",
       " 'Unnamed: 115',\n",
       " 'Unnamed: 117',\n",
       " 'Unnamed: 119',\n",
       " 'Unnamed: 121',\n",
       " 'Unnamed: 123',\n",
       " 'Unnamed: 125',\n",
       " 'Unnamed: 127',\n",
       " 'Unnamed: 129',\n",
       " 'Unnamed: 131',\n",
       " 'Unnamed: 133',\n",
       " 'Unnamed: 135',\n",
       " 'Unnamed: 137',\n",
       " 'Unnamed: 139',\n",
       " 'Unnamed: 141',\n",
       " 'Unnamed: 143',\n",
       " 'Unnamed: 145',\n",
       " 'Unnamed: 147',\n",
       " 'Unnamed: 149',\n",
       " 'Number of returns with virtual \\ncurrency indicator',\n",
       " 'Charitable contributions \\nif took standard deduction',\n",
       " 'Qualified sick and family leave credit',\n",
       " 'Recovery rebate credit [14]',\n",
       " 'Economic impact payment\\nfirst round [15, 16]',\n",
       " 'Economic impact payment\\nsecond round [15, 17]',\n",
       " 'Unnamed: 152',\n",
       " 'Unnamed: 154',\n",
       " 'Unnamed: 156',\n",
       " 'Unnamed: 158',\n",
       " 'Unnamed: 160',\n",
       " 'Unnamed: 162',\n",
       " 'Nonrefundable child care credit',\n",
       " 'Nonrefundable child and \\nother dependent tax credit',\n",
       " 'Refundable child tax credit or \\nadditional child tax credit',\n",
       " 'Qualified sick and family leave credit \\nfor leave taken beore April 1, 2021',\n",
       " 'Refundable child and \\ndependent care credit',\n",
       " 'Qualified sick and family leave credit \\nfor leave taken after March 31, 2021',\n",
       " 'Economic impact payment\\nthird round [15, 16]',\n",
       " 'Unnamed: 164',\n",
       " 'Tax-exempt interest [8]',\n",
       " 'Total rental and royalty \\nnet income (less loss)',\n",
       " 'Earned income credit \\nwith no qualifying children',\n",
       " 'Earned income credit \\nwith one qualifying children',\n",
       " 'Earned income credit \\nwith two qualifying children',\n",
       " 'Earned income credit \\nwith three or more qualifying children',\n",
       " 'Adjusted gross income (AGI)',\n",
       " 'Qualified dividends',\n",
       " 'Earned income credit',\n",
       " 'Income tax',\n",
       " 'Total tax liability',\n",
       " 'Tax due at time of filing',\n",
       " 'Overpayments refunded',\n",
       " 'Excess earned income credit (refundable)',\n",
       " 'Number of volunteer prepared returns',\n",
       " 'Number of elderly returns',\n",
       " 'Excess earned income credit \\n(refundable)',\n",
       " 'Number of \\nindividuals',\n",
       " 'AGI_clean',\n",
       " 'Local_taxes_paid',\n",
       " 'total_tax_burden',\n",
       " 'local_tax_burden',\n",
       " 'federal_tax_burden',\n",
       " 'child_and_other_dependent_credit',\n",
       " 'social_security_benefits',\n",
       " 'sick_and_family_leave_credit',\n",
       " 'Number_of_returns',\n",
       " 'Gini']"
      ]
     },
     "execution_count": 181,
     "metadata": {},
     "output_type": "execute_result"
    }
   ],
   "source": [
    "irs_df = pd.read_csv(os.path.join(custom_data_directory, 'irs_taxes_custom.csv'))\n",
    "irs_df.columns.tolist()"
   ]
  },
  {
   "cell_type": "code",
   "execution_count": 182,
   "id": "0ad5258a",
   "metadata": {},
   "outputs": [],
   "source": [
    "import numpy as np\n",
    "\n",
    "# Aggregate IRS data by year and county\n",
    "agg_irs = irs_df.groupby(['year', 'county']).apply(\n",
    "    lambda g: pd.Series({\n",
    "        'AGI_clean': g['AGI_clean'].sum(),\n",
    "        'Local_taxes_paid': g['Local_taxes_paid'].sum(),\n",
    "        'total_tax_burden': (g['AGI_clean'] * g['total_tax_burden']).sum() / g['AGI_clean'].sum() if g['AGI_clean'].sum() > 0 else np.nan,\n",
    "        'local_tax_burden': (g['AGI_clean'] * g['local_tax_burden']).sum() / g['AGI_clean'].sum() if g['AGI_clean'].sum() > 0 else np.nan,\n",
    "        'federal_tax_burden': (g['AGI_clean'] * g['federal_tax_burden']).sum() / g['AGI_clean'].sum() if g['AGI_clean'].sum() > 0 else np.nan,\n",
    "        'Number_of_returns': g['Number_of_returns'].sum(),\n",
    "        'Gini': (g['Gini'] * g['Number_of_returns']).sum() / g['Number_of_returns'].sum() if g['Number_of_returns'].sum() > 0 else np.nan\n",
    "    })\n",
    ").reset_index()\n",
    "\n",
    "agg_irs['AGI'] = irs_df['Adjusted gross income (AGI)']\n",
    "\n",
    "agg_irs['child_and_other_dependent_credit'] = irs_df['child_and_other_dependent_credit']\n",
    "agg_irs['social_security_benefits'] = irs_df['social_security_benefits']\n",
    "agg_irs['sick_and_family_leave_credit'] = irs_df['sick_and_family_leave_credit']\n",
    "\n",
    "\n"
   ]
  },
  {
   "cell_type": "code",
   "execution_count": 183,
   "id": "b2bb4778",
   "metadata": {},
   "outputs": [
    {
     "data": {
      "text/plain": [
       "['year',\n",
       " 'county',\n",
       " 'AGI_clean',\n",
       " 'Local_taxes_paid',\n",
       " 'total_tax_burden',\n",
       " 'local_tax_burden',\n",
       " 'federal_tax_burden',\n",
       " 'Number_of_returns',\n",
       " 'Gini',\n",
       " 'AGI',\n",
       " 'child_and_other_dependent_credit',\n",
       " 'social_security_benefits',\n",
       " 'sick_and_family_leave_credit']"
      ]
     },
     "execution_count": 183,
     "metadata": {},
     "output_type": "execute_result"
    }
   ],
   "source": [
    "agg_irs.columns.tolist()"
   ]
  },
  {
   "cell_type": "code",
   "execution_count": 184,
   "id": "6bb40654",
   "metadata": {},
   "outputs": [],
   "source": [
    "# Name match\n",
    "matched_df, unmatched_df = match_names(master_df, 'BoroughCensusArea', agg_irs, 'county')\n",
    "name_mapping = dict(zip(matched_df['Original'], matched_df['Matched']))\n",
    "agg_irs['county'] = agg_irs['county'].replace(name_mapping)"
   ]
  },
  {
   "cell_type": "code",
   "execution_count": 185,
   "id": "f781398f",
   "metadata": {},
   "outputs": [],
   "source": [
    "master_df = master_df.merge(agg_irs, left_on=['BoroughCensusArea', 'year'], right_on=['county', 'year'], how='left')\n",
    "master_df.drop(columns=['county'], inplace=True)"
   ]
  },
  {
   "cell_type": "markdown",
   "id": "c29581c2-5bee-4bd3-9ef3-44f5ce7e5a89",
   "metadata": {},
   "source": [
    "# Computing population density"
   ]
  },
  {
   "cell_type": "code",
   "execution_count": 186,
   "id": "c6a45465-cb4d-4943-8a3c-445c0f1c5626",
   "metadata": {},
   "outputs": [
    {
     "data": {
      "text/plain": [
       "Index(['year', 'commname', 'region', 'subreg', 'adj_households_in_community',\n",
       "       'relying_on_substinence', 'IncorporationType', 'BoroughCensusArea',\n",
       "       'NativeRegionalHealthCarePro', 'SchoolDistrict', 'ClimateRegion',\n",
       "       'EnergyRegion', 'EconomicRegion', 'sqMiLand', 'sqMiWater', 'resource',\n",
       "       'using', 'trying', 'harvesting', 'giving', 'receving',\n",
       "       'units_harvested', 'pounds_harvested', 'harv_mes_units',\n",
       "       'units_harvested_by_sample', 'lbs_harvested_percapita',\n",
       "       'lbs_harvested_by_sample', 'lbs_used_percapita',\n",
       "       'perc_contribution_to_harvest', 'median_lbs_wildfood_use_percapita',\n",
       "       'top_lbs_wildfood_use_percapita', 'labor_force', 'employed',\n",
       "       'unemployed', 'unemployment_rate', 'median_age', 'n_pop_under_14',\n",
       "       'n_pop_under_18', 'n_pop_18-65', 'n_pop_65-85', 'n_pop_over_85',\n",
       "       'n_families', 'median_family_income', 'n_households', 'n_houses',\n",
       "       'n_occupied_houses', 'house_vacancy_rate', 'n_people_below_poverty',\n",
       "       'n_households_below_poverty', 'n_people_under_18_below_poverty',\n",
       "       'n_people_18-64_below_poverty', 'n_people_65_plus_below_poverty',\n",
       "       'n_population_native', 'n_population_non_native', 'n_population_white',\n",
       "       'n_population_black', 'n_population_asian', 'n_population_male',\n",
       "       'n_population_female', 'n_total_population(ACS)', 'p_pop_under_14',\n",
       "       'p_pop_under_18', 'p_pop_18_65', 'p_pop_65_85', 'p_pop_over_85',\n",
       "       'p_families', 'p_households', 'p_occupied_houses',\n",
       "       'p_people_below_poverty', 'p_households_below_poverty',\n",
       "       'p_people_under_18_below_poverty', 'p_people_18_64_below_poverty',\n",
       "       'p_people_65_plus_below_poverty', 'p_population_native',\n",
       "       'p_population_non_native', 'p_population_white', 'p_population_black',\n",
       "       'p_population_asian', 'ratio_male_over_female', 'AGI_clean',\n",
       "       'Local_taxes_paid', 'total_tax_burden', 'local_tax_burden',\n",
       "       'federal_tax_burden', 'Number_of_returns', 'Gini', 'AGI',\n",
       "       'child_and_other_dependent_credit', 'social_security_benefits',\n",
       "       'sick_and_family_leave_credit'],\n",
       "      dtype='object')"
      ]
     },
     "execution_count": 186,
     "metadata": {},
     "output_type": "execute_result"
    }
   ],
   "source": [
    "master_df.columns"
   ]
  },
  {
   "cell_type": "code",
   "execution_count": 187,
   "id": "f1afa08d-33ba-430a-8a6b-75daf040c275",
   "metadata": {},
   "outputs": [],
   "source": [
    "master_df['pop_density'] = (master_df['n_total_population(ACS)'] / \n",
    "                            master_df['sqMiLand'].where(master_df['sqMiLand'] != 0))"
   ]
  },
  {
   "cell_type": "code",
   "execution_count": 188,
   "id": "4424f1ac-2b4d-4926-b415-31c93c3357fa",
   "metadata": {},
   "outputs": [],
   "source": [
    "master_df['pop_water_density'] = (master_df['n_total_population(ACS)'] / \n",
    "                            master_df['sqMiWater'].where(master_df['sqMiLand'] != 0))"
   ]
  },
  {
   "cell_type": "code",
   "execution_count": null,
   "id": "6457db68-0e32-4136-ba20-2cf9d9fb2167",
   "metadata": {},
   "outputs": [],
   "source": []
  },
  {
   "cell_type": "code",
   "execution_count": null,
   "id": "8ab45dd5-cef0-4236-81d4-7879c9cfeb73",
   "metadata": {},
   "outputs": [],
   "source": []
  },
  {
   "cell_type": "markdown",
   "id": "4515ed66",
   "metadata": {},
   "source": [
    "# Save as csv"
   ]
  },
  {
   "cell_type": "code",
   "execution_count": 189,
   "id": "55eaff91",
   "metadata": {},
   "outputs": [],
   "source": [
    "master_df.to_csv(os.path.join(custom_data_directory, 'master.csv'))"
   ]
  },
  {
   "cell_type": "code",
   "execution_count": 190,
   "id": "a97dce14",
   "metadata": {},
   "outputs": [
    {
     "data": {
      "text/plain": [
       "['year',\n",
       " 'commname',\n",
       " 'region',\n",
       " 'subreg',\n",
       " 'adj_households_in_community',\n",
       " 'relying_on_substinence',\n",
       " 'IncorporationType',\n",
       " 'BoroughCensusArea',\n",
       " 'NativeRegionalHealthCarePro',\n",
       " 'SchoolDistrict',\n",
       " 'ClimateRegion',\n",
       " 'EnergyRegion',\n",
       " 'EconomicRegion',\n",
       " 'sqMiLand',\n",
       " 'sqMiWater',\n",
       " 'resource',\n",
       " 'using',\n",
       " 'trying',\n",
       " 'harvesting',\n",
       " 'giving',\n",
       " 'receving',\n",
       " 'units_harvested',\n",
       " 'pounds_harvested',\n",
       " 'harv_mes_units',\n",
       " 'units_harvested_by_sample',\n",
       " 'lbs_harvested_percapita',\n",
       " 'lbs_harvested_by_sample',\n",
       " 'lbs_used_percapita',\n",
       " 'perc_contribution_to_harvest',\n",
       " 'median_lbs_wildfood_use_percapita',\n",
       " 'top_lbs_wildfood_use_percapita',\n",
       " 'labor_force',\n",
       " 'employed',\n",
       " 'unemployed',\n",
       " 'unemployment_rate',\n",
       " 'median_age',\n",
       " 'n_pop_under_14',\n",
       " 'n_pop_under_18',\n",
       " 'n_pop_18-65',\n",
       " 'n_pop_65-85',\n",
       " 'n_pop_over_85',\n",
       " 'n_families',\n",
       " 'median_family_income',\n",
       " 'n_households',\n",
       " 'n_houses',\n",
       " 'n_occupied_houses',\n",
       " 'house_vacancy_rate',\n",
       " 'n_people_below_poverty',\n",
       " 'n_households_below_poverty',\n",
       " 'n_people_under_18_below_poverty',\n",
       " 'n_people_18-64_below_poverty',\n",
       " 'n_people_65_plus_below_poverty',\n",
       " 'n_population_native',\n",
       " 'n_population_non_native',\n",
       " 'n_population_white',\n",
       " 'n_population_black',\n",
       " 'n_population_asian',\n",
       " 'n_population_male',\n",
       " 'n_population_female',\n",
       " 'n_total_population(ACS)',\n",
       " 'p_pop_under_14',\n",
       " 'p_pop_under_18',\n",
       " 'p_pop_18_65',\n",
       " 'p_pop_65_85',\n",
       " 'p_pop_over_85',\n",
       " 'p_families',\n",
       " 'p_households',\n",
       " 'p_occupied_houses',\n",
       " 'p_people_below_poverty',\n",
       " 'p_households_below_poverty',\n",
       " 'p_people_under_18_below_poverty',\n",
       " 'p_people_18_64_below_poverty',\n",
       " 'p_people_65_plus_below_poverty',\n",
       " 'p_population_native',\n",
       " 'p_population_non_native',\n",
       " 'p_population_white',\n",
       " 'p_population_black',\n",
       " 'p_population_asian',\n",
       " 'ratio_male_over_female',\n",
       " 'AGI_clean',\n",
       " 'Local_taxes_paid',\n",
       " 'total_tax_burden',\n",
       " 'local_tax_burden',\n",
       " 'federal_tax_burden',\n",
       " 'Number_of_returns',\n",
       " 'Gini',\n",
       " 'AGI',\n",
       " 'child_and_other_dependent_credit',\n",
       " 'social_security_benefits',\n",
       " 'sick_and_family_leave_credit',\n",
       " 'pop_density',\n",
       " 'pop_water_density']"
      ]
     },
     "execution_count": 190,
     "metadata": {},
     "output_type": "execute_result"
    }
   ],
   "source": [
    "master_df.columns.tolist()"
   ]
  },
  {
   "cell_type": "markdown",
   "id": "795b63ee",
   "metadata": {},
   "source": [
    "## TRYING STUFF"
   ]
  }
 ],
 "metadata": {
  "kernelspec": {
   "display_name": "3.10.12",
   "language": "python",
   "name": "python3"
  },
  "language_info": {
   "codemirror_mode": {
    "name": "ipython",
    "version": 3
   },
   "file_extension": ".py",
   "mimetype": "text/x-python",
   "name": "python",
   "nbconvert_exporter": "python",
   "pygments_lexer": "ipython3",
   "version": "3.10.12"
  }
 },
 "nbformat": 4,
 "nbformat_minor": 5
}
